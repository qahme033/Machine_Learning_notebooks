{
 "cells": [
  {
   "cell_type": "code",
   "execution_count": 2,
   "metadata": {},
   "outputs": [
    {
     "name": "stdout",
     "output_type": "stream",
     "text": [
      "\n",
      "Preprocessing sample email (emailSample1.txt)\n",
      "\n",
      "==== Processed Email ====\n",
      "\n",
      "anyon know how much it cost to host a web portal well it depend on how mani \n",
      "visitor you re expect thi can be anywher from less than number buck a month \n",
      "to a coupl of dollarnumb you should checkout httpaddr or perhap amazon ecnumb \n",
      "if your run someth big to unsubscrib yourself from thi mail list send an \n",
      "email to emailaddr \n",
      "\n",
      "=========================\n",
      "Word Indices: \n",
      " 86 916 794 1077 883 370 1699 790 1822 1831 883 431 1171 794 1002 1893 1364 592 1676 238 162 89 688 945 1663 1120 1062 1699 375 1162 479 1893 1510 799 1182 1237 810 1895 1440 1547 181 1699 1758 1896 688 1676 992 961 1477 71 530 1699 531\n",
      "\n",
      "\n",
      "text = fopen: '/Users/qasimahmed/Dev/coursera/machineLearning/ML/functions/ex6/vocab.txt' found by searching load path\n",
      "id = Octave:data-file-in-path\n",
      " 86 916 794 1077 883 370 1699 790 1822 1831 883 431 1171 794 1002 1893 1364 592 1676 238 162 89 688 945 1663 1120 1062 1699 375 1162 479 1893 1510 799 1182 1237 810 1895 1440 1547 181 1699 1758 1896 688 1676 992 961 1477 71 530 1699 531\n"
     ]
    }
   ],
   "source": [
    "addpath (\"../functions/ex6\")\n",
    "%% ==================== Part 1: Email Preprocessing ====================\n",
    "%  To use an SVM to classify emails into Spam v.s. Non-Spam, you first need\n",
    "%  to convert each email into a vector of features. In this part, you will\n",
    "%  implement the preprocessing steps for each email. You should\n",
    "%  complete the code in processEmail.m to produce a word indices vector\n",
    "%  for a given email.\n",
    "\n",
    "fprintf('\\nPreprocessing sample email (emailSample1.txt)\\n');\n",
    "\n",
    "% Extract Features\n",
    "file_contents = readFile('emailSample1.txt');\n",
    "word_indices  = processEmail(file_contents);\n",
    "\n",
    "% Print Stats\n",
    "fprintf('Word Indices: \\n');\n",
    "fprintf(' %d', word_indices);\n",
    "fprintf('\\n\\n');\n",
    "% [text, id] = lastwarn()\n",
    "% warning('off', id)\n",
    "\n"
   ]
  },
  {
   "cell_type": "code",
   "execution_count": 11,
   "metadata": {},
   "outputs": [
    {
     "name": "stdout",
     "output_type": "stream",
     "text": [
      "\n",
      "Extracting features from sample email (emailSample1.txt)\n",
      "\n",
      "==== Processed Email ====\n",
      "\n",
      "anyon know how much it cost to host a web portal well it depend on how mani \n",
      "visitor you re expect thi can be anywher from less than number buck a month \n",
      "to a coupl of dollarnumb you should checkout httpaddr or perhap amazon ecnumb \n",
      "if your run someth big to unsubscrib yourself from thi mail list send an \n",
      "email to emailaddr \n",
      "\n",
      "=========================\n",
      "Length of feature vector: 1899\n",
      "Number of non-zero entries: 45\n"
     ]
    }
   ],
   "source": [
    "%% ==================== Part 2: Feature Extraction ====================\n",
    "%  Now, you will convert each email into a vector of features in R^n. \n",
    "%  You should complete the code in emailFeatures.m to produce a feature\n",
    "%  vector for a given email.\n",
    "\n",
    "fprintf('\\nExtracting features from sample email (emailSample1.txt)\\n');\n",
    "\n",
    "% Extract Features\n",
    "file_contents = readFile('emailSample1.txt');\n",
    "word_indices  = processEmail(file_contents);\n",
    "features      = emailFeatures(word_indices);\n",
    "\n",
    "% Print Stats\n",
    "fprintf('Length of feature vector: %d\\n', length(features));\n",
    "fprintf('Number of non-zero entries: %d\\n', sum(features > 0));"
   ]
  },
  {
   "cell_type": "code",
   "execution_count": 3,
   "metadata": {},
   "outputs": [
    {
     "name": "stdout",
     "output_type": "stream",
     "text": [
      "warning: load: '/Users/qasimahmed/Dev/coursera/machineLearning/ML/functions/ex6/spamTrain.mat' found by searching load path\n",
      "\n",
      "Training Linear SVM (Spam Classification)\n",
      "(this may take 1 to 2 minutes) ...\n",
      "\n",
      "Training ......................................................................\n",
      "...............................................................................\n",
      "...............................................................................\n",
      "...............................................................................\n",
      ".......... Done! \n",
      "\n"
     ]
    }
   ],
   "source": [
    "%% =========== Part 3: Train Linear SVM for Spam Classification ========\n",
    "%  In this section, you will train a linear classifier to determine if an\n",
    "%  email is Spam or Not-Spam.\n",
    "\n",
    "% Load the Spam Email dataset\n",
    "% You will have X, y in your environment\n",
    "load('spamTrain.mat');\n",
    "\n",
    "fprintf('\\nTraining Linear SVM (Spam Classification)\\n')\n",
    "fprintf('(this may take 1 to 2 minutes) ...\\n')\n",
    "\n",
    "C = 0.1;\n",
    "model = svmTrain(X, y, C, @linearKernel);\n",
    "\n",
    "p = svmPredict(model, X);"
   ]
  },
  {
   "cell_type": "code",
   "execution_count": 12,
   "metadata": {},
   "outputs": [
    {
     "name": "stdout",
     "output_type": "stream",
     "text": [
      "\n",
      "Evaluating the trained Linear SVM on a test set ...\n",
      "Test Accuracy: 98.700000\n"
     ]
    }
   ],
   "source": [
    "%% =================== Part 4: Test Spam Classification ================\n",
    "%  After training the classifier, we can evaluate it on a test set. We have\n",
    "%  included a test set in spamTest.mat\n",
    "\n",
    "% Load the test dataset\n",
    "% You will have Xtest, ytest in your environment\n",
    "load('spamTest.mat');\n",
    "\n",
    "fprintf('\\nEvaluating the trained Linear SVM on a test set ...\\n')\n",
    "\n",
    "p = svmPredict(model, Xtest);\n",
    "\n",
    "fprintf('Test Accuracy: %f\\n', mean(double(p == ytest)) * 100);"
   ]
  },
  {
   "cell_type": "code",
   "execution_count": 13,
   "metadata": {},
   "outputs": [
    {
     "name": "stdout",
     "output_type": "stream",
     "text": [
      "\n",
      "Top predictors of spam: \n",
      " our             (0.498642) \n",
      " click           (0.467218) \n",
      " remov           (0.425526) \n",
      " guarante        (0.384983) \n",
      " visit           (0.374033) \n",
      " basenumb        (0.346556) \n",
      " dollar          (0.327422) \n",
      " will            (0.269530) \n",
      " pleas           (0.263422) \n",
      " price           (0.260089) \n",
      " most            (0.256457) \n",
      " nbsp            (0.254729) \n",
      " lo              (0.250315) \n",
      " ga              (0.246195) \n",
      " hour            (0.239968) \n"
     ]
    }
   ],
   "source": [
    "%% ================= Part 5: Top Predictors of Spam ====================\n",
    "%  Since the model we are training is a linear SVM, we can inspect the\n",
    "%  weights learned by the model to understand better how it is determining\n",
    "%  whether an email is spam or not. The following code finds the words with\n",
    "%  the highest weights in the classifier. Informally, the classifier\n",
    "%  'thinks' that these words are the most likely indicators of spam.\n",
    "%\n",
    "\n",
    "% Sort the weights and obtin the vocabulary list\n",
    "[weight, idx] = sort(model.w, 'descend');\n",
    "vocabList = getVocabList();\n",
    "\n",
    "fprintf('\\nTop predictors of spam: \\n');\n",
    "for i = 1:15\n",
    "    fprintf(' %-15s (%f) \\n', vocabList{idx(i)}, weight(i));\n",
    "end\n"
   ]
  },
  {
   "cell_type": "code",
   "execution_count": null,
   "metadata": {},
   "outputs": [],
   "source": []
  }
 ],
 "metadata": {
  "kernelspec": {
   "display_name": "Octave",
   "language": "octave",
   "name": "octave"
  },
  "language_info": {
   "file_extension": ".m",
   "help_links": [
    {
     "text": "GNU Octave",
     "url": "https://www.gnu.org/software/octave/support.html"
    },
    {
     "text": "Octave Kernel",
     "url": "https://github.com/Calysto/octave_kernel"
    },
    {
     "text": "MetaKernel Magics",
     "url": "https://github.com/calysto/metakernel/blob/master/metakernel/magics/README.md"
    }
   ],
   "mimetype": "text/x-octave",
   "name": "octave",
   "version": "4.2.1"
  }
 },
 "nbformat": 4,
 "nbformat_minor": 2
}
