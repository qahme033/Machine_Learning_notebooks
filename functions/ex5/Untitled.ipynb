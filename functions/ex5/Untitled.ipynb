{
 "cells": [
  {
   "cell_type": "code",
   "execution_count": 1,
   "metadata": {},
   "outputs": [
    {
     "name": "stdout",
     "output_type": "stream",
     "text": [
      "== Submitting solutions | Regularized Linear Regression and Bias/Variance...\n",
      "Use token from last successful submission (qahme033@uottawa.ca)? (Y/n):y\n",
      "warning: division by zero.000000e+005\n",
      "warning: division by zero\n",
      "warning: division by zero\n",
      "warning: division by zero\n",
      "warning: division by zero\n",
      "warning: division by zero\n",
      "warning: division by zero\n",
      "warning: division by zero\n",
      "warning: division by zero\n",
      "warning: division by zero\n",
      "warning: division by zero\n",
      "warning: division by zero\n",
      "warning: division by zero\n",
      "warning: division by zero.000000e+00\n",
      "warning: division by zero\n",
      "warning: division by zero\n",
      "warning: division by zero\n",
      "warning: division by zero\n",
      "warning: division by zero\n",
      "warning: division by zero\n",
      "warning: division by zero\n",
      "warning: division by zero\n",
      "warning: division by zero\n",
      "warning: division by zero\n",
      "warning: division by zero\n",
      "warning: division by zero\n",
      "warning: division by zero\n",
      "warning: division by zero\n",
      "warning: division by zero\n",
      "warning: division by zero\n",
      "warning: division by zero\n",
      "warning: division by zero\n",
      "warning: division by zero\n",
      "warning: division by zero\n",
      "warning: division by zero\n",
      "warning: division by zero\n",
      "warning: division by zero\n",
      "warning: division by zero\n",
      "warning: division by zero\n",
      "warning: division by zero\n",
      "warning: division by zero\n",
      "warning: division by zero\n",
      "warning: division by zero\n",
      "\n",
      "Iteration    32 | Cost: 1.655087e-01\n",
      "Iteration    21 | Cost: 1.608881e-01\n",
      "Iteration    34 | Cost: 2.461099e-01\n",
      "Iteration    22 | Cost: 2.012938e-01\n",
      "Iteration    39 | Cost: 1.752179e-01\n",
      "Iteration    35 | Cost: 1.538717e-01\n",
      "Iteration    39 | Cost: 1.360020e-01\n",
      "Iteration    43 | Cost: 1.253141e-01\n",
      "Iteration    41 | Cost: 1.155151e-01\n",
      "Iteration    16 | Cost: 1.151643e-01\n",
      "Iteration    59 | Cost: 1.151647e-01\n",
      "Iteration    58 | Cost: 1.151656e-01\n",
      "Iteration    53 | Cost: 1.151685e-01\n",
      "Iteration    52 | Cost: 1.151769e-01\n",
      "Iteration    51 | Cost: 1.152058e-01\n",
      "Iteration    44 | Cost: 1.152840e-01\n",
      "Iteration    41 | Cost: 1.155151e-01\n",
      "Iteration    28 | Cost: 1.159475e-01\n",
      "Iteration    14 | Cost: 1.165421e-01\n",
      "== \n",
      "==                                   Part Name |     Score | Feedback\n",
      "==                                   --------- |     ----- | --------\n",
      "== Regularized Linear Regression Cost Function |  25 /  25 | Nice work!\n",
      "==      Regularized Linear Regression Gradient |  25 /  25 | Nice work!\n",
      "==                              Learning Curve |   0 /  20 | \n",
      "==                  Polynomial Feature Mapping |  10 /  10 | Nice work!\n",
      "==                            Validation Curve |  20 /  20 | Nice work!\n",
      "==                                   --------------------------------\n",
      "==                                             |  80 / 100 | \n",
      "== \n"
     ]
    }
   ],
   "source": [
    "submit"
   ]
  },
  {
   "cell_type": "code",
   "execution_count": null,
   "metadata": {},
   "outputs": [],
   "source": []
  }
 ],
 "metadata": {
  "kernelspec": {
   "display_name": "Octave",
   "language": "octave",
   "name": "octave"
  },
  "language_info": {
   "file_extension": ".m",
   "help_links": [
    {
     "text": "GNU Octave",
     "url": "https://www.gnu.org/software/octave/support.html"
    },
    {
     "text": "Octave Kernel",
     "url": "https://github.com/Calysto/octave_kernel"
    },
    {
     "text": "MetaKernel Magics",
     "url": "https://github.com/calysto/metakernel/blob/master/metakernel/magics/README.md"
    }
   ],
   "mimetype": "text/x-octave",
   "name": "octave",
   "version": "4.2.1"
  }
 },
 "nbformat": 4,
 "nbformat_minor": 2
}
